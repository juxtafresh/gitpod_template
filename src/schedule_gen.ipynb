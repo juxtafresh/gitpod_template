{
 "cells": [
  {
   "cell_type": "code",
   "execution_count": 1,
   "metadata": {},
   "outputs": [],
   "source": [
    "# Please create a work schedule of Monday through Sunday for 5 park rangers {Mia, Annie, Will, Levy, Vlon} starting on the week of 2023-02-27 and ending in 2024. This schedule in calendar table format should be arranged to meet the following criteria:\n",
    "\n",
    "# Each employee should get between 40 and 70 total hours of work in a given week to avoid overtime. \n",
    "# There are two primary shifts they can slotted into: 7am-5pm or 4pm-12am. \n",
    "# Only Mia, Levy, Annie and Vlon can work the the 4pm-12am slot\n",
    "# Will can only work the 7am to 5pm shift. \n",
    "# The sum of all Fridays, Saturdays, and Sundays as close to equal for all rangers as possible, some error in equality is okay. \n",
    "# Both 7am-5pm and 4pm-12pm require two rangers for each shift to be present every day.\n",
    "# Each ranger works the same shift of 7am-5pm or 4pm-12am for at least 28 consecutive days\n",
    "# 4 rangers work each day.\n"
   ]
  },
  {
   "cell_type": "code",
   "execution_count": null,
   "metadata": {},
   "outputs": [],
   "source": []
  }
 ],
 "metadata": {
  "kernelspec": {
   "display_name": "Python 3",
   "language": "python",
   "name": "python3"
  },
  "language_info": {
   "codemirror_mode": {
    "name": "ipython",
    "version": 3
   },
   "file_extension": ".py",
   "mimetype": "text/x-python",
   "name": "python",
   "nbconvert_exporter": "python",
   "pygments_lexer": "ipython3",
   "version": "3.8.13"
  },
  "orig_nbformat": 4,
  "vscode": {
   "interpreter": {
    "hash": "9ac03a0a6051494cc606d484d27d20fce22fb7b4d169f583271e11d5ba46a56e"
   }
  }
 },
 "nbformat": 4,
 "nbformat_minor": 2
}
